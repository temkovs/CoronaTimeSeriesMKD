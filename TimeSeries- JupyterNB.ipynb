{
 "cells": [
  {
   "cell_type": "markdown",
   "metadata": {},
   "source": [
    "# Изработка на задача за пракса во Loka"
   ]
  },
  {
   "cell_type": "markdown",
   "metadata": {},
   "source": [
    "### Изработува: Славе Темков"
   ]
  },
  {
   "cell_type": "markdown",
   "metadata": {},
   "source": [
    "Најпрво, со помош на Selenium ги влечам податоците. Пробав колку што можам повеќе податоци да земам, но малку е тешко бидејќи немаат иста структура секој пат кога ги објавуваат."
   ]
  },
  {
   "cell_type": "code",
   "execution_count": 59,
   "metadata": {},
   "outputs": [
    {
     "name": "stdout",
     "output_type": "stream",
     "text": [
      "<bound method NDFrame.head of          datum  vkupno  novi  ozdraveni  pochinati\n",
      "0   08.04.2020     617    18          5          2\n",
      "1   14.04.2020     908    54         42          6\n",
      "2   15.04.2020     974    66         12          1\n",
      "3   16.04.2020    1081   107         23          1\n",
      "4   17.04.2020    1117    36         18          3\n",
      "5   19.04.2020    1207    37         15          2\n",
      "6   21.04.2020    1231     7         24          1\n",
      "7   20.04.2020    1225    18         21          3\n",
      "8   18.04.2020    1170    53         25          0\n",
      "9   22.04.2020    1259    28          0          1\n",
      "10  25.04.2020    1367    41         37          2\n",
      "11  26.04.2020    1386    19        126          2\n",
      "12  23.04.2020    1300    41         29          0\n",
      "13  27.04.2020    1399    13         53          4\n",
      "14  28.04.2020    1421    22         36          6\n",
      "15  29.04.2020    1442    21         38          2\n",
      "16  01.05.2020    1494    29         69          4\n",
      "17  07.05.2020    1572    33          0          0\n",
      "18  02.05.2020    1506    15         45          1\n",
      "19  08.05.2020    1586    14         20          1\n",
      "20  09.05.2020    1622    36         13          1\n",
      "21  13.05.2020    1694    20         24          3\n",
      "22  12.05.2020    1674    10          5          1>\n"
     ]
    }
   ],
   "source": [
    "from selenium import webdriver\n",
    "import re\n",
    "import pandas as pd\n",
    "driver = webdriver.Chrome()\n",
    "data = {}\n",
    "data['datum'] = []\n",
    "data['vkupno'] = []\n",
    "data['novi'] = []\n",
    "data['ozdraveni'] = []\n",
    "data['pochinati'] = []\n",
    "for i in range(14,0,-1):\n",
    "    url = 'https://koronavirus.gov.mk/vesti/category/izvestuvanja/page/' + str(i) + '?et_blog'\n",
    "    driver.get(url)\n",
    "    links = driver.find_elements_by_css_selector('h2 > a')\n",
    "    links = links[1:]\n",
    "    links.reverse()\n",
    "    dates = [el.text for el in driver.find_elements_by_css_selector('p > span.published')]\n",
    "    dates = [d.split(' | ')[0] for d in dates]\n",
    "    dates.reverse()\n",
    "    for i in range(len(links)):\n",
    "        text = links[i].text.lower()\n",
    "        if 'дијагностициран' in text:\n",
    "            datum = dates[i]\n",
    "            novi = 0\n",
    "            vkupno = 0\n",
    "            ozdraveni = 0\n",
    "            smrtni = 0\n",
    "            parts1 = text.split('–')\n",
    "            for t in parts1:\n",
    "                parts2 = t.split(',')\n",
    "                for p in parts2:\n",
    "                    nums = re.findall(r'\\d+',p)\n",
    "                    if len(nums) > 0:\n",
    "                        num = int(nums[0])\n",
    "                        if 'дијагностициран' in p:\n",
    "                            vkupno = num\n",
    "                            continue\n",
    "                        if 'нов' in p:\n",
    "                            novi = num\n",
    "                            continue\n",
    "                        if 'оздравен' in p:\n",
    "                            ozdraveni = num\n",
    "                            continue\n",
    "                        if 'почина' in p or 'смрт' in p:\n",
    "                            smrtni = num\n",
    "                            continue\n",
    "            if vkupno!=0:\n",
    "                data['datum'].append(datum)\n",
    "                data['vkupno'].append(vkupno)\n",
    "                data['novi'].append(novi)\n",
    "                data['ozdraveni'].append(ozdraveni)\n",
    "                data['pochinati'].append(smrtni)\n",
    "df = pd.DataFrame.from_dict(data)\n",
    "print(df.head)"
   ]
  },
  {
   "cell_type": "code",
   "execution_count": 60,
   "metadata": {},
   "outputs": [
    {
     "name": "stdout",
     "output_type": "stream",
     "text": [
      "<bound method NDFrame.head of          datum  vkupno  novi  ozdraveni  pochinati\n",
      "0   08.04.2020     617    18          5          2\n",
      "1   14.04.2020     908    54         42          6\n",
      "2   15.04.2020     974    66         12          1\n",
      "3   16.04.2020    1081   107         23          1\n",
      "4   17.04.2020    1117    36         18          3\n",
      "8   18.04.2020    1170    53         25          0\n",
      "5   19.04.2020    1207    37         15          2\n",
      "7   20.04.2020    1225    18         21          3\n",
      "6   21.04.2020    1231     7         24          1\n",
      "9   22.04.2020    1259    28          0          1\n",
      "12  23.04.2020    1300    41         29          0\n",
      "10  25.04.2020    1367    41         37          2\n",
      "11  26.04.2020    1386    19        126          2\n",
      "13  27.04.2020    1399    13         53          4\n",
      "14  28.04.2020    1421    22         36          6\n",
      "15  29.04.2020    1442    21         38          2\n",
      "16  01.05.2020    1494    29         69          4\n",
      "18  02.05.2020    1506    15         45          1\n",
      "17  07.05.2020    1572    33          0          0\n",
      "19  08.05.2020    1586    14         20          1\n",
      "20  09.05.2020    1622    36         13          1\n",
      "22  12.05.2020    1674    10          5          1\n",
      "21  13.05.2020    1694    20         24          3>\n"
     ]
    }
   ],
   "source": [
    "df = df.sort_values('vkupno')\n",
    "print(df.head)"
   ]
  },
  {
   "cell_type": "markdown",
   "metadata": {},
   "source": [
    "Можеме да видиме дека понекогаш во подолг период ни фалат податоци, пример немаме за неколку дена по ред. Затоа, за да се конзистентни податоците во тој поглед, ќе направам интерполација на тие „дупки“ во податоците, на тој начин што ќе претпоставам дека во тој период бројот на заболени се зголемува со рамномерна распределба. Целта на ова е за да можеме да ги искористиме податоците во модел за предвидување на временски серии."
   ]
  },
  {
   "cell_type": "code",
   "execution_count": 61,
   "metadata": {},
   "outputs": [
    {
     "name": "stdout",
     "output_type": "stream",
     "text": [
      "['08.04.2020', '14.04.2020', '15.04.2020', '16.04.2020', '17.04.2020', '18.04.2020', '19.04.2020', '20.04.2020', '21.04.2020', '22.04.2020', '23.04.2020', '25.04.2020', '26.04.2020', '27.04.2020', '28.04.2020', '29.04.2020', '01.05.2020', '02.05.2020', '07.05.2020', '08.05.2020', '09.05.2020', '12.05.2020', '13.05.2020']\n",
      "<bound method NDFrame.head of           date  vkupno  novi\n",
      "0   08.04.2020     617    18\n",
      "23  09.04.2020     666    49\n",
      "24  10.04.2020     713    47\n",
      "25  11.04.2020     760    47\n",
      "26  12.04.2020     807    47\n",
      "27  13.04.2020     854    47\n",
      "1   14.04.2020     908    54\n",
      "2   15.04.2020     974    66\n",
      "3   16.04.2020    1081   107\n",
      "4   17.04.2020    1117    36\n",
      "5   18.04.2020    1170    53\n",
      "6   19.04.2020    1207    37\n",
      "7   20.04.2020    1225    18\n",
      "8   21.04.2020    1231     7\n",
      "9   22.04.2020    1259    28\n",
      "10  23.04.2020    1300    41\n",
      "28  24.04.2020    1326    26\n",
      "11  25.04.2020    1367    41\n",
      "12  26.04.2020    1386    19\n",
      "13  27.04.2020    1399    13\n",
      "14  28.04.2020    1421    22\n",
      "15  29.04.2020    1442    21\n",
      "29  30.04.2020    1465    23\n",
      "16  01.05.2020    1494    29\n",
      "17  02.05.2020    1506    15\n",
      "30  03.05.2020    1515     9\n",
      "31  04.05.2020    1523     8\n",
      "32  05.05.2020    1531     8\n",
      "33  06.05.2020    1539     8\n",
      "18  07.05.2020    1572    33\n",
      "19  08.05.2020    1586    14\n",
      "20  09.05.2020    1622    36\n",
      "34  10.05.2020    1643    21\n",
      "35  11.05.2020    1664    21\n",
      "21  12.05.2020    1674    10\n",
      "22  13.05.2020    1694    20>\n"
     ]
    }
   ],
   "source": [
    "datumi = list(df['datum'])\n",
    "vkupno = list(df['vkupno'])\n",
    "novi = list(df['novi'])\n",
    "print(datumi)\n",
    "numbering = []\n",
    "for datum in datumi:\n",
    "    den = int(datum[:2])\n",
    "    mesec = datum[3:5]\n",
    "    if mesec == '04':\n",
    "        numbering.append(den-8)\n",
    "    else:\n",
    "        numbering.append(den+22)\n",
    "ind = -1\n",
    "razlika = 0\n",
    "br = 1\n",
    "missing_num = 0\n",
    "last = 0\n",
    "for i in range(numbering[-1]):\n",
    "    if i in numbering:\n",
    "        ind+=1\n",
    "        razlika = vkupno[ind+1] - novi[ind+1] - vkupno[ind]\n",
    "        br = 1\n",
    "        missing_num = numbering[ind+1] - numbering[ind] - 1\n",
    "        last = vkupno[ind]\n",
    "    else:\n",
    "        if i <= 22:\n",
    "            datum = '%02d' % (8+i)\n",
    "            datum += '.04.2020'\n",
    "        else:\n",
    "            datum = '%02d' % (i - 22)\n",
    "            datum += '.05.2020'\n",
    "        brnovi = razlika // missing_num\n",
    "        if br==1 and razlika%missing_num!=0:\n",
    "            brnovi+=razlika%missing_num\n",
    "        last = last + brnovi\n",
    "        datumi.append(datum)\n",
    "        vkupno.append(last)\n",
    "        novi.append(brnovi)\n",
    "        br+=1\n",
    "r = {}\n",
    "r['date'] = datumi\n",
    "r['vkupno'] = vkupno\n",
    "r['novi'] = novi\n",
    "new_df = pd.DataFrame.from_dict(r)\n",
    "new_df = new_df.sort_values('vkupno')\n",
    "print(new_df.head)"
   ]
  },
  {
   "cell_type": "markdown",
   "metadata": {},
   "source": [
    "Следно, ќе ги исцртаме податоците во график, во однос на времето. Временските точки ќе ги означиме од 0 (означувајќи го првиот ден за кој што имаме податоци), до вкупниот број на денови кој што го имаме (означувајќи го последниот ден за кој што имаме податоци). Не ги ставив датите за да биде попрегледно на x-оската."
   ]
  },
  {
   "cell_type": "code",
   "execution_count": 62,
   "metadata": {},
   "outputs": [
    {
     "data": {
      "text/plain": [
       "<matplotlib.legend.Legend at 0x1f2ce755e88>"
      ]
     },
     "execution_count": 62,
     "metadata": {},
     "output_type": "execute_result"
    },
    {
     "data": {
      "image/png": "[encoded data removed]",
      "text/plain": [
       "<Figure size 1440x720 with 1 Axes>"
      ]
     },
     "metadata": {
      "needs_background": "light"
     },
     "output_type": "display_data"
    }
   ],
   "source": [
    "import matplotlib.pyplot as plt \n",
    "plt.figure(figsize=(20,10))\n",
    "plt.xlabel('Vreme')\n",
    "vreme = [i for i in range(numbering[-1]+1)]\n",
    "plt.plot(vreme,list(new_df['vkupno']),label = 'Vkupno zaboleni')\n",
    "plt.plot(vreme,list(new_df['novi']),label = 'Novi zaboleni')\n",
    "plt.legend()"
   ]
  },
  {
   "cell_type": "markdown",
   "metadata": {},
   "source": [
    "Како што спомнав погоре, би било најповолно да се користи модел за предвидување на временски серии. Во овој случај јас одлучив да истренирам два модели, едниот користејќи ги податоците за вкупно заболените до тој ден, а друг користејќи ги податоците за бројот на ново заболени за тој ден. Од првиот модел ќе можеме да го добиеме бројот на ново заболени ако од предвидениот број го одземиме бројот на вкупно заболени од последниот ден во податоците кои ги имаме. Потоа, предвидувањето можеме да го направиме на тој начин што ќе земеме некаков тежински збир на двете предвидувања. На почеток ќе поставам поголема тежина за првиот модел (тој што ги користи бројот на вкупно заболени до тој ден, бидејќи ни дава повеќе информации), но пример ова понатаму може да се модифицира доколку се користи моделот, со тоа што ќе гледаме кое од предвидувањата е поточно, и на тоа ќе му се зголемува тежината."
   ]
  },
  {
   "cell_type": "code",
   "execution_count": 64,
   "metadata": {},
   "outputs": [
    {
     "name": "stdout",
     "output_type": "stream",
     "text": [
      "21.678660802121385\n",
      "13.582327256823461\n",
      "19\n",
      "1713\n"
     ]
    }
   ],
   "source": [
    "from statsmodels.tsa.arima_model import ARIMA\n",
    "weight1 = 0.7\n",
    "weight2 = 0.3\n",
    "data1 = new_df['vkupno'].values\n",
    "model1 = ARIMA(data1, order=(1, 1, 1))\n",
    "model1_fit = model1.fit(disp=False)\n",
    "pred1 = model1_fit.predict(len(data1), len(data1), typ='levels')[0] - data1[-1]\n",
    "data2 = new_df['novi'].values\n",
    "model2 = ARIMA(data2, order=(1, 1, 1))\n",
    "model2_fit = model2.fit(disp=False)\n",
    "pred2 = model2_fit.predict(len(data2), len(data2), typ='levels')[0]\n",
    "print(pred1)\n",
    "print(pred2)\n",
    "pred = int(round(weight1*pred1 + weight2*pred2))\n",
    "print(pred)\n",
    "print(data1[-1] + pred)"
   ]
  },
  {
   "cell_type": "markdown",
   "metadata": {},
   "source": [
    "Според ваквите резултати, добиваме дека за следниот ден ќе имаме 19 нови заболени, односно вкупно 1713 заболени."
   ]
  }
 ],
 "metadata": {
  "kernelspec": {
   "display_name": "Python 3",
   "language": "python",
   "name": "python3"
  },
  "language_info": {
   "codemirror_mode": {
    "name": "ipython",
    "version": 3
   },
   "file_extension": ".py",
   "mimetype": "text/x-python",
   "name": "python",
   "nbconvert_exporter": "python",
   "pygments_lexer": "ipython3",
   "version": "3.7.4"
  }
 },
 "nbformat": 4,
 "nbformat_minor": 4
}
